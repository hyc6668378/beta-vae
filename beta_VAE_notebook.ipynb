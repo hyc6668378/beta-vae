{
 "cells": [
  {
   "cell_type": "code",
   "execution_count": 1,
   "metadata": {
    "collapsed": true
   },
   "outputs": [
    {
     "name": "stdout",
     "output_type": "stream",
     "text": [
      "Load_image_dataset?[yes/no] no\n",
      "WARNING:tensorflow:From /usr/local/lib/python2.7/dist-packages/tensorflow/python/framework/op_def_library.py:263: colocate_with (from tensorflow.python.framework.ops) is deprecated and will be removed in a future version.\n",
      "Instructions for updating:\n",
      "Colocations handled automatically by placer.\n",
      "WARNING:tensorflow:From /usr/local/lib/python2.7/dist-packages/tensorflow/contrib/layers/python/layers/layers.py:1067: batch_normalization (from tensorflow.python.layers.normalization) is deprecated and will be removed in a future version.\n",
      "Instructions for updating:\n",
      "Use keras.layers.batch_normalization instead.\n",
      "WARNING:tensorflow:From /usr/local/lib/python2.7/dist-packages/tensorflow/contrib/layers/python/layers/layers.py:1624: flatten (from tensorflow.python.layers.core) is deprecated and will be removed in a future version.\n",
      "Instructions for updating:\n",
      "Use keras.layers.flatten instead.\n",
      "WARNING:tensorflow:From beta_VAE.py:178: dense (from tensorflow.python.layers.core) is deprecated and will be removed in a future version.\n",
      "Instructions for updating:\n",
      "Use keras.layers.dense instead.\n",
      "WARNING:tensorflow:From /usr/local/lib/python2.7/dist-packages/tensorflow/python/ops/losses/losses_impl.py:667: to_float (from tensorflow.python.ops.math_ops) is deprecated and will be removed in a future version.\n",
      "Instructions for updating:\n",
      "Use tf.cast instead.\n",
      "WARNING:tensorflow:From /usr/local/lib/python2.7/dist-packages/tensorflow/python/ops/math_ops.py:3066: to_int32 (from tensorflow.python.ops.math_ops) is deprecated and will be removed in a future version.\n",
      "Instructions for updating:\n",
      "Use tf.cast instead.\n"
     ]
    }
   ],
   "source": [
    "from beta_TCVAE import beta_TCVAE\n",
    "beta_TCVAE = beta_TCVAE( training =True, lr=0.001)"
   ]
  },
  {
   "cell_type": "code",
   "execution_count": 2,
   "metadata": {
    "scrolled": false
   },
   "outputs": [
    {
     "name": "stderr",
     "output_type": "stream",
     "text": [
      "100%|██████████| 300/300 [13:44:14<00:00, 165.08s/it]  \n"
     ]
    }
   ],
   "source": [
    "beta_TCVAE.fit(epoch=300)\n",
    "beta_TCVAE.Save()"
   ]
  },
  {
   "cell_type": "code",
   "execution_count": 6,
   "metadata": {},
   "outputs": [],
   "source": [
    "mean = beta_VAE.dataset.mean()\n",
    "std = beta_VAE.dataset.std()"
   ]
  },
  {
   "cell_type": "code",
   "execution_count": null,
   "metadata": {},
   "outputs": [],
   "source": []
  },
  {
   "cell_type": "code",
   "execution_count": 5,
   "metadata": {},
   "outputs": [
    {
     "data": {
      "image/png": "[encoded data removed]",
      "text/plain": [
       "<Figure size 432x288 with 1 Axes>"
      ]
     },
     "metadata": {
      "needs_background": "light"
     },
     "output_type": "display_data"
    }
   ],
   "source": [
    "import matplotlib.pyplot as plt\n",
    "plt.plot(beta_VAE.loss_list)\n",
    "plt.show()"
   ]
  },
  {
   "cell_type": "code",
   "execution_count": 3,
   "metadata": {},
   "outputs": [],
   "source": [
    "beta_VAE.Save()"
   ]
  },
  {
   "cell_type": "markdown",
   "metadata": {},
   "source": [
    "####  求总体样本的均值,方差"
   ]
  },
  {
   "cell_type": "code",
   "execution_count": 64,
   "metadata": {
    "scrolled": true
   },
   "outputs": [
    {
     "name": "stderr",
     "output_type": "stream",
     "text": [
      "100%|██████████| 20608/20608 [00:14<00:00, 1390.40it/s]\n"
     ]
    },
    {
     "name": "stdout",
     "output_type": "stream",
     "text": [
      "116.77986\n",
      "57.100357\n"
     ]
    }
   ],
   "source": [
    "from tqdm import tqdm\n",
    "dataset=[]\n",
    "for i in tqdm(range(20608)):\n",
    "    tran_file_path = \\\n",
    "            '/home/baxter/catkin_ws/src/huang/scripts/explore_transitions/exp_transition%d.npy' \\\n",
    "            % (i + 1)\n",
    "    transition = np.load(tran_file_path, allow_pickle=True)\n",
    "    transition = transition.tolist()\n",
    "    dataset.append(transition['observe0_img'][:,:,[2,1,0]])\n",
    "    dataset.append(transition['observe1_img'][:,:,[2,1,0]])\n",
    "dataset = np.array(dataset, dtype=np.float32)\n",
    "\n",
    "mean = dataset.mean() # 116.73773\n",
    "std = dataset.std()  # 57.21839\n",
    "print mean\n",
    "print std"
   ]
  },
  {
   "cell_type": "code",
   "execution_count": 2,
   "metadata": {},
   "outputs": [],
   "source": [
    "mean = 116.77986\n",
    "std = 57.100357"
   ]
  },
  {
   "cell_type": "code",
   "execution_count": 12,
   "metadata": {
    "collapsed": true
   },
   "outputs": [
    {
     "name": "stdout",
     "output_type": "stream",
     "text": [
      "WARNING:tensorflow:From /usr/local/lib/python2.7/dist-packages/tensorflow/python/training/saver.py:1266: checkpoint_exists (from tensorflow.python.training.checkpoint_management) is deprecated and will be removed in a future version.\n",
      "Instructions for updating:\n",
      "Use standard file APIs to check for files with this prefix.\n",
      "INFO:tensorflow:Restoring parameters from /home/baxter/Documents/beta-vae/checkpoints/model.ckpt\n"
     ]
    }
   ],
   "source": [
    "beta_VAE.load()"
   ]
  },
  {
   "cell_type": "code",
   "execution_count": 62,
   "metadata": {},
   "outputs": [],
   "source": [
    "true_images = tf.zeros([5,256,256,3])\n",
    "reconstructed_images = tf.zeros([5,256,256,3])\n",
    "\n",
    "flattened_dim = np.prod(true_images.get_shape().as_list()[1:])\n",
    "reconstructed_images = tf.reshape(reconstructed_images, shape=[-1, flattened_dim])\n",
    "true_images = tf.reshape(true_images, shape=[-1, flattened_dim])\n",
    "dist = tfp.distributions.Bernoulli(\n",
    "                probs=tf.clip_by_value(true_images, 1e-6, 1 - 1e-6))\n",
    "loss_lower_bound = tf.reduce_sum(dist.entropy(), axis=1)\n",
    "\n",
    "loss = tf.reduce_sum(\n",
    "            tf.nn.sigmoid_cross_entropy_with_logits(\n",
    "                logits=reconstructed_images, labels=true_images),\n",
    "            axis=1)\n"
   ]
  },
  {
   "cell_type": "code",
   "execution_count": 63,
   "metadata": {},
   "outputs": [
    {
     "data": {
      "text/plain": [
       "<tf.Tensor 'Sum_11:0' shape=(5,) dtype=float32>"
      ]
     },
     "execution_count": 63,
     "metadata": {},
     "output_type": "execute_result"
    }
   ],
   "source": [
    "loss"
   ]
  },
  {
   "cell_type": "code",
   "execution_count": 20,
   "metadata": {
    "scrolled": false
   },
   "outputs": [
    {
     "name": "stdout",
     "output_type": "stream",
     "text": [
      "disentangle to vector z\n",
      "[[0.08865082 0.         0.         0.         0.         0.\n",
      "  0.         0.         0.         0.        ]]\n"
     ]
    }
   ],
   "source": [
    "import numpy as np\n",
    "tran_file_path = \\\n",
    "                '/home/baxter/catkin_ws/src/huang/scripts/demo_transitions/demo1.npy'\n",
    "transition = np.load(tran_file_path, allow_pickle=True)\n",
    "transition = transition.tolist()\n",
    "image_test = transition['observe1_img'][:,:,[2,1,0]]\n",
    "image_test = (image_test-mean)/std\n",
    "z = beta_VAE.image_disentangle(np.ones([256,256,3]))\n",
    "print z"
   ]
  },
  {
   "cell_type": "code",
   "execution_count": 21,
   "metadata": {
    "scrolled": true
   },
   "outputs": [
    {
     "name": "stdout",
     "output_type": "stream",
     "text": [
      "reconstruct image\n",
      "0.81346494\n"
     ]
    }
   ],
   "source": [
    "import tensorflow as tf\n",
    "with tf.Session() as sess:\n",
    "    print sess.run(tf.losses.mean_squared_error(image_test, beta_VAE.image_test(np.ones([256,256,3]))))"
   ]
  },
  {
   "cell_type": "code",
   "execution_count": 22,
   "metadata": {},
   "outputs": [
    {
     "name": "stdout",
     "output_type": "stream",
     "text": [
      "reconstruct image\n"
     ]
    },
    {
     "data": {
      "image/png": "[encoded data removed]",
      "text/plain": [
       "<Figure size 432x288 with 1 Axes>"
      ]
     },
     "metadata": {
      "needs_background": "light"
     },
     "output_type": "display_data"
    }
   ],
   "source": [
    "import matplotlib.pyplot as plt\n",
    "plt.imshow(beta_VAE.image_test(np.ones([256,256,3])))\n",
    "plt.show()"
   ]
  }
 ],
 "metadata": {
  "kernelspec": {
   "display_name": "Python 2",
   "language": "python",
   "name": "python2"
  },
  "language_info": {
   "codemirror_mode": {
    "name": "ipython",
    "version": 2
   },
   "file_extension": ".py",
   "mimetype": "text/x-python",
   "name": "python",
   "nbconvert_exporter": "python",
   "pygments_lexer": "ipython2",
   "version": "2.7.12"
  }
 },
 "nbformat": 4,
 "nbformat_minor": 2
}
